{
 "cells": [
  {
   "cell_type": "markdown",
   "id": "0d85e785",
   "metadata": {},
   "source": [
    "# Import changes (N1) :"
   ]
  },
  {
   "cell_type": "code",
   "execution_count": 20,
   "id": "68040fd2",
   "metadata": {},
   "outputs": [],
   "source": [
    "import pandas as pd\n",
    "import numpy as np\n",
    "import csv\n",
    "import re\n",
    "from collections import Counter\n",
    "    \n",
    "df = pd.read_csv(\"data/export_n1.csv\", encoding ='ISO-8859-1')"
   ]
  },
  {
   "cell_type": "markdown",
   "id": "0f62705c",
   "metadata": {},
   "source": [
    "# Exploring Categorical Data:"
   ]
  },
  {
   "cell_type": "markdown",
   "id": "7f83e097",
   "metadata": {},
   "source": [
    "### Exploring Fatal"
   ]
  },
  {
   "cell_type": "code",
   "execution_count": 21,
   "id": "145dc930",
   "metadata": {},
   "outputs": [
    {
     "data": {
      "text/plain": [
       "fatal_(y/n)\n",
       "N          4283\n",
       "Y          1381\n",
       "UNKNOWN      65\n",
       " N            7\n",
       "M             1\n",
       "2017          1\n",
       "N             1\n",
       "y             1\n",
       "Name: count, dtype: int64"
      ]
     },
     "execution_count": 21,
     "metadata": {},
     "output_type": "execute_result"
    }
   ],
   "source": [
    "df[\"fatal_(y/n)\"].value_counts()"
   ]
  },
  {
   "cell_type": "markdown",
   "id": "4b38d70a",
   "metadata": {},
   "source": [
    "### Exploring Sex"
   ]
  },
  {
   "cell_type": "code",
   "execution_count": 22,
   "id": "5c2f2e44",
   "metadata": {},
   "outputs": [
    {
     "data": {
      "text/plain": [
       "array(['F', 'M', nan, 'M ', 'lli', 'N', '.'], dtype=object)"
      ]
     },
     "execution_count": 22,
     "metadata": {},
     "output_type": "execute_result"
    }
   ],
   "source": [
    "df[\"sex_\"].unique()"
   ]
  },
  {
   "cell_type": "markdown",
   "id": "253f22ff",
   "metadata": {},
   "source": [
    "### Exploring Type"
   ]
  },
  {
   "cell_type": "code",
   "execution_count": 23,
   "id": "0ae900b0",
   "metadata": {},
   "outputs": [
    {
     "data": {
      "text/plain": [
       "type\n",
       "Unprovoked      4580\n",
       "Provoked         573\n",
       "Invalid          537\n",
       "Sea Disaster     231\n",
       "Boating          201\n",
       "Boat             137\n",
       "Questionable       2\n",
       "Boatomg            1\n",
       "Name: count, dtype: int64"
      ]
     },
     "execution_count": 23,
     "metadata": {},
     "output_type": "execute_result"
    }
   ],
   "source": [
    "df[\"type\"].value_counts()"
   ]
  },
  {
   "cell_type": "markdown",
   "id": "c3ff9740",
   "metadata": {},
   "source": [
    "## For complexe categories"
   ]
  },
  {
   "cell_type": "code",
   "execution_count": 57,
   "id": "d988b6bc",
   "metadata": {},
   "outputs": [],
   "source": [
    "def texto_csv(column):\n",
    "    \n",
    "    #name of the document: as column_name_column.csv\n",
    "    path = f'data/column_{column}.csv'\n",
    "    \n",
    "    \"\"\" Hay que quitar los vacios primero - lo he sacado de la funcion\n",
    "    por no tranformar la tabla aqui \"\"\"\n",
    "   \n",
    "    #2. We write every colum as a new line in the .csv\n",
    "    non_empty_values = [str(i) for i in df[column]]\n",
    "    \n",
    "    with open(path, mode='w', newline='') as file:\n",
    "        writer = csv.writer(file)\n",
    "        writer.writerows([[value] for value in non_empty_values]) \n",
    "        \n",
    "    print(f'Column successfully exported to {path}')"
   ]
  },
  {
   "cell_type": "code",
   "execution_count": 58,
   "id": "89587875",
   "metadata": {},
   "outputs": [],
   "source": [
    "template_re_words = ['a', 'an', 'the', 'and', 'or', 'but', 'in', 'on', 'for', 'with', 'at', 'by', 'of', 'about', 'to', 'from',\n",
    "    'up', 'down', 'over', 'under', 'above', 'below', 'after', 'before', 'during', 'while', 'since', 'because',\n",
    "    'as', 'though', 'if', 'whether', 'no', 'not', 'than', 'until', 'unless', 'without', 'out', 'off', 'of', \n",
    "    'into']"
   ]
  },
  {
   "cell_type": "code",
   "execution_count": 59,
   "id": "27580b95",
   "metadata": {},
   "outputs": [],
   "source": [
    "def palabras_clave(file, numb, re_words):\n",
    "    \n",
    "    \"\"\"Function that returns the {numb} words more \n",
    "    repeated in a text inside a csv {file}\"\"\"\n",
    "    \n",
    "    path = f\"data/{file}\"\n",
    "    \n",
    "    text = open(path,'r').read().split(\"\\n\")\n",
    "    \n",
    "    lines = [i.strip().lower() for i in text]\n",
    "    \n",
    "    #remove all special caracters \n",
    "    clean_lines = []\n",
    "    for entry in lines:\n",
    "        a = \"\".join(char for char in entry if char.isalpha() or char.isspace())\n",
    "        clean_lines.append(a)\n",
    "    \n",
    "    # separate line in list of words \n",
    "    words_lists = list(map(lambda x:x.split(\" \"),clean_lines))\n",
    "    \n",
    "    # list of all words separated \n",
    "    flat_words = [ word.strip() for list_ in words_lists for word in list_  if word != \"\" and word not in re_words]\n",
    "    \n",
    "    # use library counter \n",
    "    word_counts = Counter(flat_words)\n",
    "    \n",
    "    most_common_words = word_counts.most_common(numb)\n",
    "\n",
    "    return most_common_words"
   ]
  },
  {
   "cell_type": "markdown",
   "id": "eb4d36bf",
   "metadata": {},
   "source": [
    "### Explore Species:"
   ]
  },
  {
   "cell_type": "code",
   "execution_count": 60,
   "id": "fb82224b",
   "metadata": {},
   "outputs": [],
   "source": [
    "df[\"species_\"].fillna(\"empty\", inplace = True)"
   ]
  },
  {
   "cell_type": "code",
   "execution_count": 61,
   "id": "ea44536a",
   "metadata": {},
   "outputs": [
    {
     "name": "stdout",
     "output_type": "stream",
     "text": [
      "Column successfully exported to data/column_species_.csv\n"
     ]
    }
   ],
   "source": [
    "texto_csv(\"species_\")"
   ]
  },
  {
   "cell_type": "code",
   "execution_count": 53,
   "id": "a76855bf",
   "metadata": {},
   "outputs": [],
   "source": [
    "shark_words = ['a', 'an', 'the', 'and', 'or', 'but', 'in', 'on', 'for', 'with', 'at', 'by', 'of', 'about', 'to', 'from',\n",
    "    'up', 'down', 'over', 'under', 'above', 'below', 'after', 'before', 'during', 'while', 'since', 'because',\n",
    "    'as', 'though', 'if', 'whether', 'no', 'not', 'than', 'until', 'unless', 'without', 'out', 'off', 'of', \n",
    "    'into', 'empty', 'm','involvement','shark', 'sharks','confirmed','prior','death', 'was','invalid',\n",
    "    'questionable','small', 'lb','involve', 'unconfirmed','possibly']"
   ]
  },
  {
   "cell_type": "code",
   "execution_count": 62,
   "id": "d32bae36",
   "metadata": {
    "scrolled": true
   },
   "outputs": [
    {
     "data": {
      "text/plain": [
       "[('white', 638),\n",
       " ('tiger', 264),\n",
       " ('bull', 188),\n",
       " ('blacktip', 101),\n",
       " ('nurse', 97)]"
      ]
     },
     "execution_count": 62,
     "metadata": {},
     "output_type": "execute_result"
    }
   ],
   "source": [
    "palabras_clave(\"column_species_.csv\",5,shark_words) # Change number for more words"
   ]
  },
  {
   "cell_type": "markdown",
   "id": "872fe15b",
   "metadata": {},
   "source": [
    "### Explore Activity:"
   ]
  },
  {
   "cell_type": "code",
   "execution_count": 66,
   "id": "de870d23",
   "metadata": {},
   "outputs": [],
   "source": [
    "df[\"activity\"].fillna(\"empty\", inplace = True)"
   ]
  },
  {
   "cell_type": "code",
   "execution_count": 67,
   "id": "1177fd01",
   "metadata": {},
   "outputs": [
    {
     "name": "stdout",
     "output_type": "stream",
     "text": [
      "Column successfully exported to data/column_activity.csv\n"
     ]
    }
   ],
   "source": [
    "texto_csv(\"activity\")"
   ]
  },
  {
   "cell_type": "code",
   "execution_count": 68,
   "id": "a8dcced5",
   "metadata": {},
   "outputs": [],
   "source": [
    "activity_words = ['a', 'an', 'the', 'and', 'or', 'but', 'in', 'on', 'for', 'with', 'at', 'by', 'of', 'about', 'to', 'from',\n",
    "    'up', 'down', 'over', 'under', 'above', 'below', 'after', 'before', 'during', 'while', 'since', 'because',\n",
    "    'as', 'though', 'if', 'whether', 'no', 'not', 'than', 'until', 'unless', 'without', 'out', 'off', 'of', \n",
    "    'into', 'empty', 'water', 'shark', 'attempting', 'net', 'raft', 'pearl', 'abalone', 'shore', \n",
    "    'surface', 'sharks', 'his', 'sea', 'men', 'he', 'were','was', 'ton', 'near', 'trochus','have']"
   ]
  },
  {
   "cell_type": "code",
   "execution_count": 69,
   "id": "0fb441f3",
   "metadata": {
    "scrolled": true
   },
   "outputs": [
    {
     "data": {
      "text/plain": [
       "[('swimming', 1115),\n",
       " ('surfing', 1103),\n",
       " ('fishing', 735),\n",
       " ('diving', 550),\n",
       " ('spearfishing', 430)]"
      ]
     },
     "execution_count": 69,
     "metadata": {},
     "output_type": "execute_result"
    }
   ],
   "source": [
    "palabras_clave(\"column_activity.csv\",5,activity_words)"
   ]
  },
  {
   "cell_type": "markdown",
   "id": "367af1b7",
   "metadata": {},
   "source": [
    "### Explore Injuries:"
   ]
  },
  {
   "cell_type": "code",
   "execution_count": 70,
   "id": "9d1de388",
   "metadata": {},
   "outputs": [],
   "source": [
    "df[\"injury\"].fillna(\"empty\", inplace = True)"
   ]
  },
  {
   "cell_type": "code",
   "execution_count": 71,
   "id": "65e7830d",
   "metadata": {},
   "outputs": [
    {
     "name": "stdout",
     "output_type": "stream",
     "text": [
      "Column successfully exported to data/column_injury.csv\n"
     ]
    }
   ],
   "source": [
    "texto_csv(\"injury\")"
   ]
  },
  {
   "cell_type": "code",
   "execution_count": 72,
   "id": "29f171ae",
   "metadata": {},
   "outputs": [],
   "source": [
    "injury_words = ['a', 'an', 'the', 'and', 'or', 'but', 'in', 'on', 'for', 'with', 'at', 'by', 'of', 'about', 'to', 'from',\n",
    "    'up', 'down', 'over', 'under', 'above', 'below', 'after', 'before', 'during', 'while', 'since', 'because',\n",
    "    'as', 'though', 'if', 'whether', 'no', 'not', 'than', 'until', 'unless', 'without', 'out', 'off', 'of', \n",
    "    'into', 'shark', 'provoked', 'incident', 'calf', 'sharks', 'his', 'occupants', 'ocupant', 'wounds', 'puncture', 'survived',\n",
    "    'was', 'recovered', 'hooked', 'he', 'were', 'when', 'remains', 'fatal', 'him','it','m']"
   ]
  },
  {
   "cell_type": "code",
   "execution_count": 73,
   "id": "75043d32",
   "metadata": {},
   "outputs": [
    {
     "data": {
      "text/plain": [
       "[('bitten', 1556),\n",
       " ('injury', 967),\n",
       " ('leg', 885),\n",
       " ('right', 845),\n",
       " ('left', 841)]"
      ]
     },
     "execution_count": 73,
     "metadata": {},
     "output_type": "execute_result"
    }
   ],
   "source": [
    "palabras_clave(\"column_injury.csv\",5,injury_words)"
   ]
  },
  {
   "cell_type": "markdown",
   "id": "261a8ad7",
   "metadata": {},
   "source": [
    "# Transform:"
   ]
  },
  {
   "cell_type": "markdown",
   "id": "d975c41b",
   "metadata": {},
   "source": [
    "### Tranform Fatal:"
   ]
  },
  {
   "cell_type": "code",
   "execution_count": 74,
   "id": "d0d5a1eb",
   "metadata": {},
   "outputs": [],
   "source": [
    "#1.Replace Nan values with string(for later transformations)\n",
    "df[\"fatal_(y/n)\"] = df[\"fatal_(y/n)\"].fillna(\"empty_value\")\n",
    "\n",
    "#2.Remove trailing and leading spaces and set to upper case\n",
    "df[\"fatal_(y/n)\"] = df[\"fatal_(y/n)\"].str.strip().str.upper()\n",
    "\n",
    "#3.Replace/transform incorrect data\n",
    "df[\"fatal_(y/n)\"].replace({\"M\" : np.nan, \"UNKNOWN\" : np.nan, \"2017\" : np.nan, \"EMPTY_VALUE\" : np.nan},inplace=True)"
   ]
  },
  {
   "cell_type": "code",
   "execution_count": 75,
   "id": "7d240ce6",
   "metadata": {},
   "outputs": [
    {
     "data": {
      "text/plain": [
       "fatal_(y/n)\n",
       "N    4291\n",
       "Y    1382\n",
       "Name: count, dtype: int64"
      ]
     },
     "execution_count": 75,
     "metadata": {},
     "output_type": "execute_result"
    }
   ],
   "source": [
    "df[\"fatal_(y/n)\"].value_counts()"
   ]
  },
  {
   "cell_type": "markdown",
   "id": "89b7cd59",
   "metadata": {},
   "source": [
    "### Tranform Sex:"
   ]
  },
  {
   "cell_type": "code",
   "execution_count": 76,
   "id": "d7a46472",
   "metadata": {},
   "outputs": [],
   "source": [
    "#1.Replace Nan values with string(for later transformations)\n",
    "df[\"sex_\"].fillna(\"empty_value\", inplace = True)\n",
    "\n",
    "#2.Remove trailing and leading spaces and set to upper case\n",
    "df[\"sex_\"] = df[\"sex_\"].str.upper().str.strip()\n",
    "\n",
    "#3.Replace/transform incorrect data\n",
    "df[\"sex_\"].replace({\"N\" : np.nan, \"LLI\" : np.nan, \".\" : np.nan, \"EMPTY_VALUE\" : np.nan},inplace=True)"
   ]
  },
  {
   "cell_type": "code",
   "execution_count": 77,
   "id": "09dfc03c",
   "metadata": {},
   "outputs": [
    {
     "data": {
      "text/plain": [
       "sex_\n",
       "M    5086\n",
       "F     637\n",
       "Name: count, dtype: int64"
      ]
     },
     "execution_count": 77,
     "metadata": {},
     "output_type": "execute_result"
    }
   ],
   "source": [
    "df[\"sex_\"].value_counts()"
   ]
  },
  {
   "cell_type": "markdown",
   "id": "7fe8f811",
   "metadata": {},
   "source": [
    "### Tranform Type:"
   ]
  },
  {
   "cell_type": "code",
   "execution_count": 78,
   "id": "a4bae85d",
   "metadata": {},
   "outputs": [],
   "source": [
    "df[\"type\"].replace({\"Boat\" : \"Boating\", \"Boatomg\" : \"Boating\"},inplace=True)"
   ]
  },
  {
   "cell_type": "code",
   "execution_count": 79,
   "id": "ae626761",
   "metadata": {},
   "outputs": [
    {
     "data": {
      "text/plain": [
       "type\n",
       "Unprovoked      4580\n",
       "Provoked         573\n",
       "Invalid          537\n",
       "Boating          339\n",
       "Sea Disaster     231\n",
       "Questionable       2\n",
       "Name: count, dtype: int64"
      ]
     },
     "execution_count": 79,
     "metadata": {},
     "output_type": "execute_result"
    }
   ],
   "source": [
    "df[\"type\"].value_counts()"
   ]
  },
  {
   "cell_type": "code",
   "execution_count": 80,
   "id": "065dba80",
   "metadata": {},
   "outputs": [
    {
     "data": {
      "text/plain": [
       "'REVISAR ESTO PORQUE NO SE SI TIENE SENTIDO TANTAS CATEGORIAS \\nPARA DECIR PROVOCADO/NO PROVOCADO\\n\\nQUIZA PODEMOS JUSTIFICAR QUE SI ES DESASTE NO PROVOCADO Y TODO ESO'"
      ]
     },
     "execution_count": 80,
     "metadata": {},
     "output_type": "execute_result"
    }
   ],
   "source": [
    "\"\"\"REVISAR ESTO PORQUE NO SE SI TIENE SENTIDO TANTAS CATEGORIAS \n",
    "PARA DECIR PROVOCADO/NO PROVOCADO\n",
    "\n",
    "QUIZA PODEMOS JUSTIFICAR QUE SI ES DESASTE NO PROVOCADO Y TODO ESO\"\"\""
   ]
  },
  {
   "cell_type": "code",
   "execution_count": 81,
   "id": "86437457",
   "metadata": {},
   "outputs": [],
   "source": [
    "def assign_grop(description, category_dict, Other):\n",
    "    \n",
    "    for pattern, category in category_dict.items():\n",
    "        if re.search(pattern, description, flags=re.IGNORECASE):\n",
    "            return category\n",
    "    return Other"
   ]
  },
  {
   "cell_type": "markdown",
   "id": "21673d1d",
   "metadata": {},
   "source": [
    "### Tranform Species:"
   ]
  },
  {
   "cell_type": "code",
   "execution_count": 82,
   "id": "ff06a417",
   "metadata": {},
   "outputs": [],
   "source": [
    "species_dict = {r'[Cc]ooper|[Bb]ronze|[Ww]haler|[Nn]arrowtooth' : \"Cooper Shark\",\n",
    "                r'[Ww]hitetip' : \"Whitetip Shark\",\n",
    "                r'[Ss]and(?:\\s*[Tt]iger)?' : \"Sand Shark\",\n",
    "                r'[Ww]hite' : \"White Shark\",\n",
    "                r'[tT]iger': \"Tiger Shark\",\n",
    "                r'[bB]ull|[Zz]ambe[sz]i' : \"Bull Shark\",\n",
    "                r'[bB]lacktip' : \"Blacktip Shark\",\n",
    "                r'[Nn]urse' : \"Nurse Shark\",\n",
    "                r'[sS]hortfin|[Mm]ako' : \"Mako Shark\",\n",
    "                r'[bB]lue' : \"Blue Shark\",\n",
    "                r'[Ww]obbegong' : \"Wobbegong Shark\",\n",
    "                r'[hH]ammer': \"Hammer Shark\",\n",
    "                r'[rR]agged': \"Ragged Shark\",\n",
    "                r'[lL]emon': \"Lemon Shark\",\n",
    "                r'[cC]aribbean': \"Caribean Shark\",\n",
    "                r'[Ss]evengill': \"Sevengill Shark\",\n",
    "                r'(?:[nN]o|[Uu]n|[Nn]ot)\\s*(?:[Cc]onfirmed|[iI]dentify)' : \"Unidentify\"}\n"
   ]
  },
  {
   "cell_type": "code",
   "execution_count": 83,
   "id": "0e9a8200",
   "metadata": {},
   "outputs": [],
   "source": [
    "df['shark_specie'] = df['species_'].apply(assign_grop, category_dict=species_dict, Other=\"Unidentify\")\n"
   ]
  },
  {
   "cell_type": "code",
   "execution_count": 84,
   "id": "b0042215",
   "metadata": {
    "scrolled": true
   },
   "outputs": [
    {
     "data": {
      "text/plain": [
       "shark_specie\n",
       "Unidentify         4499\n",
       "White Shark         633\n",
       "Tiger Shark         261\n",
       "Bull Shark          207\n",
       "Blacktip Shark       99\n",
       "Nurse Shark          96\n",
       "Cooper Shark         79\n",
       "Mako Shark           54\n",
       "Blue Shark           54\n",
       "Wobbegong Shark      50\n",
       "Sand Shark           49\n",
       "Hammer Shark         48\n",
       "Ragged Shark         43\n",
       "Lemon Shark          34\n",
       "Whitetip Shark       31\n",
       "Caribean Shark       16\n",
       "Sevengill Shark      13\n",
       "Name: count, dtype: int64"
      ]
     },
     "execution_count": 84,
     "metadata": {},
     "output_type": "execute_result"
    }
   ],
   "source": [
    "df[\"shark_specie\"].value_counts()"
   ]
  },
  {
   "cell_type": "markdown",
   "id": "01626209",
   "metadata": {},
   "source": [
    "### Tranform Activity:"
   ]
  },
  {
   "cell_type": "code",
   "execution_count": 85,
   "id": "0cd1f381",
   "metadata": {},
   "outputs": [],
   "source": [
    "activity_dict = {r'[Ss]urf|[Bb]oard|[Bb]oogi|[Pp]add|[Ss]ki]' : \"Board sports\",\n",
    "r'[sS]wim|[Bb]ath' : \"Swimming\",\n",
    "r'[Dd]iving|[Ss]pear': \"Diving\",\n",
    "r'[Ff]ishing' : \"Fishing\",\n",
    "r'[kK]ayak|[Cc]anoe' : \"Kayaking\",\n",
    "r'[Ff]eed' :\"Feeding Sharks\",\n",
    "r'[Oo]verboard|[fF]ell]' : \"Fall overboard\" ,\n",
    "r'[Ww]ading|[Ww]alk' : \"Wading\",\n",
    "r'[Cc]apsize|[Bb]oat|[Ss]hip|[Ww]reck|[Dd]inghy|[Tt]orpedboat': \"Boat incincidents\"}"
   ]
  },
  {
   "cell_type": "code",
   "execution_count": 86,
   "id": "153322df",
   "metadata": {},
   "outputs": [],
   "source": [
    "df['activity_group'] = df['activity'].apply(assign_grop, category_dict=activity_dict, Other=\"Other\")\n"
   ]
  },
  {
   "cell_type": "code",
   "execution_count": 87,
   "id": "f58f7895",
   "metadata": {},
   "outputs": [
    {
     "data": {
      "text/plain": [
       "activity_group\n",
       "Board sports         1577\n",
       "Other                1335\n",
       "Swimming             1276\n",
       "Diving                947\n",
       "Fishing               685\n",
       "Boat incincidents     191\n",
       "Wading                182\n",
       "Kayaking               58\n",
       "Feeding Sharks         15\n",
       "Name: count, dtype: int64"
      ]
     },
     "execution_count": 87,
     "metadata": {},
     "output_type": "execute_result"
    }
   ],
   "source": [
    "df[\"activity_group\"].value_counts()"
   ]
  },
  {
   "cell_type": "markdown",
   "id": "9d6bc62f",
   "metadata": {},
   "source": [
    "### Tranform Injuries:"
   ]
  },
  {
   "cell_type": "code",
   "execution_count": 88,
   "id": "4914ef6f",
   "metadata": {},
   "outputs": [],
   "source": [
    "sever_dict = {r'([Mm]inor|[Nn]o|[Nn]on)\\s*[Ii]njur' : \"Minor or No injuries\",\n",
    "r'[Aa]mputat|[Ll]acerat|[bB]it|[Ss]ever' : \"Amputations or Lacerations\"}\n",
    "\n",
    "#r'(?:death|disappeared|killed|body drowned|died|none surviv|not surviv)' :\"Not survived\""
   ]
  },
  {
   "cell_type": "code",
   "execution_count": 89,
   "id": "a61d3990",
   "metadata": {},
   "outputs": [],
   "source": [
    "body_dict = {r'[Ll]eg|[Ff]oot|[Kk]nee|[Aa]nkle|[Tt]high'  : \"Lower extremities\",\n",
    "r'[fF]inger|[hH]and|[sS]houlder|[eE]lbow|[aA]rm|[Ww]rist' : \"Upper extremities\",\n",
    "r'[Tt]orso|[Aa]bdomen|[Cc]hest|[Bb]ack|[Hh]ip' : \"Torso\"}"
   ]
  },
  {
   "cell_type": "code",
   "execution_count": 90,
   "id": "b076d54a",
   "metadata": {},
   "outputs": [],
   "source": [
    "df['severity_group'] = df['injury'].apply(assign_grop, category_dict=sever_dict, Other=\"Undetermined\")"
   ]
  },
  {
   "cell_type": "code",
   "execution_count": 91,
   "id": "ba1dffdc",
   "metadata": {},
   "outputs": [
    {
     "data": {
      "text/plain": [
       "severity_group\n",
       "Amputations or Lacerations    3164\n",
       "Undetermined                  2140\n",
       "Minor or No injuries           962\n",
       "Name: count, dtype: int64"
      ]
     },
     "execution_count": 91,
     "metadata": {},
     "output_type": "execute_result"
    }
   ],
   "source": [
    "df['severity_group'].value_counts()"
   ]
  },
  {
   "cell_type": "code",
   "execution_count": 92,
   "id": "3ffc4c5a",
   "metadata": {},
   "outputs": [],
   "source": [
    "df['body_group'] = df['injury'].apply(assign_grop, category_dict=body_dict , Other=\"Undetermined\")"
   ]
  },
  {
   "cell_type": "code",
   "execution_count": 93,
   "id": "e9400bbe",
   "metadata": {},
   "outputs": [
    {
     "data": {
      "text/plain": [
       "body_group\n",
       "Undetermined         2908\n",
       "Lower extremities    2274\n",
       "Upper extremities     942\n",
       "Torso                 142\n",
       "Name: count, dtype: int64"
      ]
     },
     "execution_count": 93,
     "metadata": {},
     "output_type": "execute_result"
    }
   ],
   "source": [
    "df['body_group'].value_counts()"
   ]
  },
  {
   "cell_type": "code",
   "execution_count": 96,
   "id": "a7e4a6eb",
   "metadata": {},
   "outputs": [],
   "source": [
    "def export_to_csv(data_frame, file_name):\n",
    "    \"\"\"\n",
    "    Export a DataFrame to a CSV file.\n",
    "\n",
    "    Parameters:\n",
    "        - data_frame: pandas DataFrame\n",
    "        - file_name: str, name of the CSV file (without the extension)\n",
    "    \"\"\"\n",
    "    file_path = f\"data/{file_name}.csv\"\n",
    "    \n",
    "    data_frame.to_csv(file_path, index=False)\n",
    "    print(f\"DataFrame successfully exported to {file_path}\")"
   ]
  },
  {
   "cell_type": "code",
   "execution_count": 98,
   "id": "2883ce44",
   "metadata": {},
   "outputs": [
    {
     "name": "stdout",
     "output_type": "stream",
     "text": [
      "DataFrame successfully exported to data/export_n2.csv\n"
     ]
    }
   ],
   "source": [
    "export_to_csv(df, \"export_n2\")"
   ]
  }
 ],
 "metadata": {
  "kernelspec": {
   "display_name": "Python 3 (ipykernel)",
   "language": "python",
   "name": "python3"
  },
  "language_info": {
   "codemirror_mode": {
    "name": "ipython",
    "version": 3
   },
   "file_extension": ".py",
   "mimetype": "text/x-python",
   "name": "python",
   "nbconvert_exporter": "python",
   "pygments_lexer": "ipython3",
   "version": "3.11.5"
  }
 },
 "nbformat": 4,
 "nbformat_minor": 5
}
